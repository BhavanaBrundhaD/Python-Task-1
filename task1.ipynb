{
 "cells": [
  {
   "cell_type": "code",
   "execution_count": 3,
   "id": "bc0ab2c2-4515-49fe-9dd5-298d0f4e85fa",
   "metadata": {},
   "outputs": [
    {
     "name": "stdin",
     "output_type": "stream",
     "text": [
      "Enter first number:  15\n",
      "Enter second number:  9\n"
     ]
    },
    {
     "name": "stdout",
     "output_type": "stream",
     "text": [
      "Sum: 24\n"
     ]
    }
   ],
   "source": [
    "# Task 1: Sum of Two Numbers\n",
    "def sum_of_two_numbers(a, b):\n",
    "    return a + b\n",
    "\n",
    "# Example\n",
    "num1 = int(input(\"Enter first number: \"))\n",
    "num2 = int(input(\"Enter second number: \"))\n",
    "print(\"Sum:\", sum_of_two_numbers(num1, num2))"
   ]
  },
  {
   "cell_type": "code",
   "execution_count": 11,
   "id": "edf440ab-1f0a-4df0-824a-44ffee21ed68",
   "metadata": {},
   "outputs": [
    {
     "name": "stdin",
     "output_type": "stream",
     "text": [
      "Enter a number: 5\n"
     ]
    },
    {
     "name": "stdout",
     "output_type": "stream",
     "text": [
      "The number is odd\n"
     ]
    }
   ],
   "source": [
    "# Task 2: Odd or Even\n",
    "def check_odd_even(n):\n",
    "    return \"Even\" if n % 2 == 0 else \"odd\"\n",
    "\n",
    "# Example\n",
    "num = int(input(\"Enter a number:\"))\n",
    "print(\"The number is\", check_odd_even(num))"
   ]
  },
  {
   "cell_type": "code",
   "execution_count": 15,
   "id": "811a196c-9e83-4439-8039-433a1a58237a",
   "metadata": {},
   "outputs": [
    {
     "name": "stdin",
     "output_type": "stream",
     "text": [
      "Enter a number:  5\n"
     ]
    },
    {
     "name": "stdout",
     "output_type": "stream",
     "text": [
      "Factorial: 120\n"
     ]
    }
   ],
   "source": [
    "# Task 3: Factorial Calculation\n",
    "import math\n",
    "def factorial(n):\n",
    "    return math.factorial(n)\n",
    "\n",
    "# Example \n",
    "num = int(input(\"Enter a number: \"))\n",
    "print(\"Factorial:\", factorial(num))"
   ]
  },
  {
   "cell_type": "code",
   "execution_count": 23,
   "id": "cd30f76a-9d1f-4e1a-8068-31755f687dc4",
   "metadata": {},
   "outputs": [
    {
     "name": "stdin",
     "output_type": "stream",
     "text": [
      "Enter the number of terms:  12\n"
     ]
    },
    {
     "name": "stdout",
     "output_type": "stream",
     "text": [
      "Fibonacci sequence: [0, 1, 1, 2, 3, 5, 8, 13, 21, 34, 55, 89]\n"
     ]
    }
   ],
   "source": [
    "# Task 4: Fibonacci Sequence\n",
    "def fibonacci(n):\n",
    "    sequence = [0, 1]\n",
    "    for i in range(2, n):\n",
    "       sequence.append(sequence[-1] + sequence[-2])\n",
    "    return sequence[:n]\n",
    "\n",
    "# Example\n",
    "num = int(input(\"Enter the number of terms: \"))\n",
    "print(\"Fibonacci sequence:\", fibonacci(num))"
   ]
  },
  {
   "cell_type": "code",
   "execution_count": 25,
   "id": "887118ec-6e3d-4c43-ab58-57c9f319c7bb",
   "metadata": {},
   "outputs": [
    {
     "name": "stdin",
     "output_type": "stream",
     "text": [
      "Enter a string: hello world\n"
     ]
    },
    {
     "name": "stdout",
     "output_type": "stream",
     "text": [
      "Reversed string: dlrow olleh\n"
     ]
    }
   ],
   "source": [
    "# Task 5: Reverse a String\n",
    "def reverse_string(s):\n",
    "    return s[::-1]\n",
    "\n",
    "# Example\n",
    "text = input(\"Enter a string:\")\n",
    "print(\"Reversed string:\", reverse_string(text))"
   ]
  },
  {
   "cell_type": "code",
   "execution_count": 29,
   "id": "55e3cd0f-aca7-44b4-988d-c386de96cc00",
   "metadata": {},
   "outputs": [
    {
     "name": "stdin",
     "output_type": "stream",
     "text": [
      "Enter a string:  hello\n"
     ]
    },
    {
     "name": "stdout",
     "output_type": "stream",
     "text": [
      "Palindrome: False\n"
     ]
    }
   ],
   "source": [
    "# Task 6: Palindrome Check\n",
    "def is_palindrome(s):\n",
    "    return s == s[::-1]\n",
    "\n",
    "# Example\n",
    "text = input(\"Enter a string: \")\n",
    "print(\"Palindrome:\", is_palindrome(text))"
   ]
  },
  {
   "cell_type": "code",
   "execution_count": 31,
   "id": "905bb888-e45b-464a-b4ea-10f8dd3d8993",
   "metadata": {},
   "outputs": [
    {
     "name": "stdin",
     "output_type": "stream",
     "text": [
      "Enter a year: 2024\n"
     ]
    },
    {
     "name": "stdout",
     "output_type": "stream",
     "text": [
      "Leap Year: True\n"
     ]
    }
   ],
   "source": [
    "# Task 7: Leap Year Check\n",
    "def is_leap_year(year):\n",
    "    return year % 4 == 0 and (year % 100 != 0 or year % 400 == 0)\n",
    "\n",
    "# Example\n",
    "year = int(input(\"Enter a year:\"))\n",
    "print(\"Leap Year:\", is_leap_year(year))"
   ]
  },
  {
   "cell_type": "code",
   "execution_count": 35,
   "id": "8a0e4e01-d097-4406-b07d-9ba39942dfd6",
   "metadata": {},
   "outputs": [
    {
     "name": "stdin",
     "output_type": "stream",
     "text": [
      "Enter a number:  153\n"
     ]
    },
    {
     "name": "stdout",
     "output_type": "stream",
     "text": [
      "Armstrong Number: True\n"
     ]
    }
   ],
   "source": [
    "# Task 8: Armstrong Number\n",
    "def is_armstrong(n):\n",
    "    digits = [int(d) for d in str(n)]\n",
    "    power = len(digits)\n",
    "    return n == sum(d ** power for d in digits)\n",
    "\n",
    "# Example\n",
    "num = int(input(\"Enter a number: \"))\n",
    "print(\"Armstrong Number:\", is_armstrong(num))"
   ]
  },
  {
   "cell_type": "code",
   "execution_count": 45,
   "id": "d1223cbc-bc83-4f1a-a8f6-84af5da6ecfe",
   "metadata": {},
   "outputs": [
    {
     "name": "stdout",
     "output_type": "stream",
     "text": [
      "Original: Hello World!\n",
      "Encrypted: Khoor Zruog!\n",
      "Decrypted: Hello World!\n"
     ]
    }
   ],
   "source": [
    "# Custom Encryption and Decryption System\n",
    "def encrypt(text, shift):\n",
    "    encrypted_text = \"\"\n",
    "    for char in text:\n",
    "        if char.isalpha():\n",
    "            shift_base = 65 if char.isupper()else 97\n",
    "            encrypted_text += chr((ord(char) - shift_base + shift) % 26 + shift_base)\n",
    "        else:\n",
    "            encrypted_text += char\n",
    "    return encrypted_text\n",
    "\n",
    "def decrypt(encrypted_text, shift):\n",
    "    return encrypt(encrypted_text, -shift)\n",
    "\n",
    "# Example \n",
    "message = \"Hello World!\"\n",
    "shift_key = 3\n",
    "\n",
    "encrypted_message = encrypt(message, shift_key)\n",
    "decrypted_message = decrypt(encrypted_message, shift_key)\n",
    "\n",
    "print(f\"Original: {message}\")\n",
    "print(f\"Encrypted: {encrypted_message}\")\n",
    "print(f\"Decrypted: {decrypted_message}\")\n",
    "\n"
   ]
  },
  {
   "cell_type": "code",
   "execution_count": null,
   "id": "2dbd8d06-9b26-465e-8444-ca2b46a4b36e",
   "metadata": {},
   "outputs": [],
   "source": []
  }
 ],
 "metadata": {
  "kernelspec": {
   "display_name": "Python [conda env:base] *",
   "language": "python",
   "name": "conda-base-py"
  },
  "language_info": {
   "codemirror_mode": {
    "name": "ipython",
    "version": 3
   },
   "file_extension": ".py",
   "mimetype": "text/x-python",
   "name": "python",
   "nbconvert_exporter": "python",
   "pygments_lexer": "ipython3",
   "version": "3.12.7"
  }
 },
 "nbformat": 4,
 "nbformat_minor": 5
}
