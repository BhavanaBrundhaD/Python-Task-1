{
 "cells": [
  {
   "cell_type": "code",
   "execution_count": 2,
   "id": "91a641b5-c7aa-426e-aafb-c43d2034a2a3",
   "metadata": {},
   "outputs": [
    {
     "name": "stdout",
     "output_type": "stream",
     "text": [
      "Number of inversions: 3\n"
     ]
    }
   ],
   "source": [
    "#Task 47: Count Inversions \n",
    "def merge_sort(arr):\n",
    "    if len(arr) <= 1:\n",
    "        return arr, 0\n",
    "    mid = len(arr) // 2\n",
    "    left, inv_left = merge_sort(arr[:mid])\n",
    "    right, inv_right = merge_sort(arr[mid:])\n",
    "    merged, inv_split = merge(left, right)\n",
    "    return merged, inv_left + inv_right + inv_split\n",
    "\n",
    "def merge(left, right):\n",
    "    result = []\n",
    "    i = j = inv_count = 0\n",
    "    while i < len(left) and j < len(right):\n",
    "        if left[i] <= right[j]:\n",
    "            result.append(left[i])\n",
    "            i += 1\n",
    "        else:\n",
    "            result.append(right[j])\n",
    "            inv_count += len(left) - i\n",
    "            j += 1\n",
    "    result += left[i:]\n",
    "    result += right[j:]\n",
    "    return result, inv_count\n",
    "\n",
    "# Example \n",
    "arr = [2, 4, 1, 3, 5]\n",
    "_, inversions = merge_sort(arr)\n",
    "print(\"Number of inversions:\", inversions)\n"
   ]
  },
  {
   "cell_type": "code",
   "execution_count": 4,
   "id": "23180f54-457a-4f56-a84a-2630624f0da9",
   "metadata": {},
   "outputs": [
    {
     "name": "stdout",
     "output_type": "stream",
     "text": [
      "Longest Palindromic Substring: bab\n"
     ]
    }
   ],
   "source": [
    "#Task 48: Find the Longest Palindromic Substring\n",
    "def expand_around_center(s, left, right):\n",
    "    while left >= 0 and right < len(s) and s[left] == s[right]:\n",
    "        left -= 1\n",
    "        right += 1\n",
    "    return s[left+1:right]\n",
    "\n",
    "def longest_palindrome(s):\n",
    "    result = \"\"\n",
    "    for i in range(len(s)):\n",
    "        temp = expand_around_center(s, i, i)\n",
    "        if len(temp) > len(result):\n",
    "            result = temp\n",
    "        temp = expand_around_center(s, i, i+1)\n",
    "        if len(temp) > len(result):\n",
    "            result = temp\n",
    "    return result\n",
    "\n",
    "# Example \n",
    "s = \"babad\"\n",
    "print(\"Longest Palindromic Substring:\", longest_palindrome(s))\n"
   ]
  },
  {
   "cell_type": "code",
   "execution_count": 6,
   "id": "f2a21f18-5fab-4ee3-be3e-bcc9713c9c14",
   "metadata": {},
   "outputs": [
    {
     "name": "stdout",
     "output_type": "stream",
     "text": [
      "Minimum Cost: 80\n"
     ]
    }
   ],
   "source": [
    "#Task 49: Travelling Salesman Problem(TSP)\n",
    "import itertools\n",
    "\n",
    "def tsp_brute_force(graph):\n",
    "    n = len(graph)\n",
    "    min_path = float('inf')\n",
    "    for perm in itertools.permutations(range(1, n)):\n",
    "        cost = graph[0][perm[0]]\n",
    "        for i in range(len(perm)-1):\n",
    "            cost += graph[perm[i]][perm[i+1]]\n",
    "        cost += graph[perm[-1]][0]\n",
    "        min_path = min(min_path, cost)\n",
    "    return min_path\n",
    "\n",
    "# Example \n",
    "graph = [\n",
    "    [0, 10, 15, 20],\n",
    "    [10, 0, 35, 25],\n",
    "    [15, 35, 0, 30],\n",
    "    [20, 25, 30, 0]\n",
    "]\n",
    "print(\"Minimum Cost:\", tsp_brute_force(graph))\n"
   ]
  },
  {
   "cell_type": "code",
   "execution_count": 8,
   "id": "a8a04255-a2a3-4117-b0bf-1b1a9dc891c9",
   "metadata": {},
   "outputs": [
    {
     "name": "stdout",
     "output_type": "stream",
     "text": [
      "Graph has cycle: False\n"
     ]
    }
   ],
   "source": [
    "#Task 50: Graph Cycle Detection\n",
    "def has_cycle(graph):\n",
    "    visited = set()\n",
    "    def dfs(v, parent):\n",
    "        visited.add(v)\n",
    "        for neighbor in graph[v]:\n",
    "            if neighbor not in visited:\n",
    "                if dfs(neighbor, v):\n",
    "                    return True\n",
    "            elif neighbor != parent:\n",
    "                return True\n",
    "        return False\n",
    "    \n",
    "    for v in graph:\n",
    "        if v not in visited:\n",
    "            if dfs(v, None):\n",
    "                return True\n",
    "    return False\n",
    "\n",
    "# Example \n",
    "graph = {\n",
    "    0: [1],\n",
    "    1: [0, 2],\n",
    "    2: [1, 3],\n",
    "    3: [2]\n",
    "}\n",
    "print(\"Graph has cycle:\", has_cycle(graph))\n"
   ]
  },
  {
   "cell_type": "code",
   "execution_count": 10,
   "id": "551d0af8-0565-4c89-987c-1e58ea626fe1",
   "metadata": {},
   "outputs": [
    {
     "name": "stdout",
     "output_type": "stream",
     "text": [
      "Length of longest substring: 3\n"
     ]
    }
   ],
   "source": [
    "#Task 51: Longest Substring Without Repeating Characters\n",
    "def length_of_longest_substring(s):\n",
    "    char_set = set()\n",
    "    left = 0\n",
    "    max_length = 0\n",
    "    for right in range(len(s)):\n",
    "        while s[right] in char_set:\n",
    "            char_set.remove(s[left])\n",
    "            left += 1\n",
    "        char_set.add(s[right])\n",
    "        max_length = max(max_length, right - left + 1)\n",
    "    return max_length\n",
    "\n",
    "# Example \n",
    "s = \"abcabcbb\"\n",
    "print(\"Length of longest substring:\", length_of_longest_substring(s))\n"
   ]
  },
  {
   "cell_type": "code",
   "execution_count": 12,
   "id": "5f452606-77c2-4946-879f-0ab05c7d4602",
   "metadata": {},
   "outputs": [
    {
     "name": "stdout",
     "output_type": "stream",
     "text": [
      "Valid Parentheses Combinations: ['((()))', '(()())', '(())()', '()(())', '()()()']\n"
     ]
    }
   ],
   "source": [
    "#Task 52: Find All Valid Parentheses Combinations\n",
    "def generate_parentheses(n):\n",
    "    result = []\n",
    "    def backtrack(s, left, right):\n",
    "        if len(s) == 2 * n:\n",
    "            result.append(s)\n",
    "            return\n",
    "        if left < n:\n",
    "            backtrack(s + \"(\", left + 1, right)\n",
    "        if right < left:\n",
    "            backtrack(s + \")\", left, right + 1)\n",
    "    backtrack(\"\", 0, 0)\n",
    "    return result\n",
    "\n",
    "# Example\n",
    "n = 3\n",
    "print(\"Valid Parentheses Combinations:\", generate_parentheses(n))\n"
   ]
  },
  {
   "cell_type": "code",
   "execution_count": 15,
   "id": "2068ebed-460b-49f2-9857-68e4cdea481d",
   "metadata": {},
   "outputs": [
    {
     "name": "stdout",
     "output_type": "stream",
     "text": [
      "[[1], [3, 2], [4, 5, 6, 7]]\n"
     ]
    }
   ],
   "source": [
    "#Task 53: Zigzag Level Order Travesal of Binary Tree\n",
    "from collections import deque\n",
    "\n",
    "class TreeNode:\n",
    "    def __init__(self, val):\n",
    "        self.val = val\n",
    "        self.left = None\n",
    "        self.right = None\n",
    "\n",
    "def zigzagLevelOrder(root):\n",
    "    if not root:\n",
    "        return []\n",
    "\n",
    "    result = []\n",
    "    queue = deque([root])\n",
    "    left_to_right = True\n",
    "\n",
    "    while queue:\n",
    "        level_size = len(queue)\n",
    "        level_nodes = deque()\n",
    "\n",
    "        for _ in range(level_size):\n",
    "            node = queue.popleft()\n",
    "            if left_to_right:\n",
    "                level_nodes.append(node.val)\n",
    "            else:\n",
    "                level_nodes.appendleft(node.val)\n",
    "\n",
    "            if node.left:\n",
    "                queue.append(node.left)\n",
    "            if node.right:\n",
    "                queue.append(node.right)\n",
    "\n",
    "        result.append(list(level_nodes))\n",
    "        left_to_right = not left_to_right\n",
    "\n",
    "    return result\n",
    "\n",
    "# Example\n",
    "# Binary Tree:\n",
    "#       1\n",
    "#     /   \\\n",
    "#    2     3\n",
    "#   / \\   / \\\n",
    "#  4   5 6   7\n",
    "\n",
    "root = TreeNode(1)\n",
    "root.left = TreeNode(2)\n",
    "root.right = TreeNode(3)\n",
    "root.left.left = TreeNode(4)\n",
    "root.left.right = TreeNode(5)\n",
    "root.right.left = TreeNode(6)\n",
    "root.right.right = TreeNode(7)\n",
    "\n",
    "print(zigzagLevelOrder(root))\n"
   ]
  },
  {
   "cell_type": "code",
   "execution_count": 17,
   "id": "0591cdac-28ad-453e-8731-99b77c373b03",
   "metadata": {},
   "outputs": [
    {
     "name": "stdout",
     "output_type": "stream",
     "text": [
      "[['a', 'a', 'b'], ['aa', 'b']]\n"
     ]
    }
   ],
   "source": [
    "#Task 54: Palindrome Partitioning\n",
    "def is_palindrome(s):\n",
    "    return s == s[::-1]\n",
    "\n",
    "def partition(s):\n",
    "    result = []\n",
    "\n",
    "    def backtrack(start, path):\n",
    "        if start == len(s):\n",
    "            result.append(path[:])\n",
    "            return\n",
    "        for end in range(start + 1, len(s) + 1):\n",
    "            if is_palindrome(s[start:end]):\n",
    "                path.append(s[start:end])\n",
    "                backtrack(end, path)\n",
    "                path.pop()\n",
    "\n",
    "    backtrack(0, [])\n",
    "    return result\n",
    "\n",
    "# Example\n",
    "s = \"aab\"\n",
    "print(partition(s))\n"
   ]
  },
  {
   "cell_type": "code",
   "execution_count": 19,
   "id": "06f98d13-5275-4086-b06a-7e70fd60248b",
   "metadata": {},
   "outputs": [
    {
     "name": "stdout",
     "output_type": "stream",
     "text": [
      "\n",
      "--- Personal Budget Advisor ---\n",
      "1. Add Income\n",
      "2. Add Expense\n",
      "3. View Summary\n",
      "4. Exit\n"
     ]
    },
    {
     "name": "stdin",
     "output_type": "stream",
     "text": [
      "Enter your choice:  1\n",
      "Enter income amount: ₹ 50000\n"
     ]
    },
    {
     "name": "stdout",
     "output_type": "stream",
     "text": [
      "\n",
      "--- Personal Budget Advisor ---\n",
      "1. Add Income\n",
      "2. Add Expense\n",
      "3. View Summary\n",
      "4. Exit\n"
     ]
    },
    {
     "name": "stdin",
     "output_type": "stream",
     "text": [
      "Enter your choice:  2\n",
      "Enter expense amount: ₹ 30000\n"
     ]
    },
    {
     "name": "stdout",
     "output_type": "stream",
     "text": [
      "\n",
      "--- Personal Budget Advisor ---\n",
      "1. Add Income\n",
      "2. Add Expense\n",
      "3. View Summary\n",
      "4. Exit\n"
     ]
    },
    {
     "name": "stdin",
     "output_type": "stream",
     "text": [
      "Enter your choice:  3\n"
     ]
    },
    {
     "name": "stdout",
     "output_type": "stream",
     "text": [
      "\n",
      "Total Income: ₹50000.00\n",
      "Total Expenses: ₹30000.00\n",
      "\n",
      "Savings: ₹20000.00\n",
      "Suggestion: Try to keep savings above 20%. Current: 40.00%\n",
      "\n",
      "--- Personal Budget Advisor ---\n",
      "1. Add Income\n",
      "2. Add Expense\n",
      "3. View Summary\n",
      "4. Exit\n"
     ]
    },
    {
     "name": "stdin",
     "output_type": "stream",
     "text": [
      "Enter your choice:  4\n"
     ]
    },
    {
     "name": "stdout",
     "output_type": "stream",
     "text": [
      "Exiting Budget Advisor. Goodbye!\n"
     ]
    }
   ],
   "source": [
    "# Personal Budget Advisor\n",
    "def display_menu():\n",
    "    print(\"\\n--- Personal Budget Advisor ---\")\n",
    "    print(\"1. Add Income\")\n",
    "    print(\"2. Add Expense\")\n",
    "    print(\"3. View Summary\")\n",
    "    print(\"4. Exit\")\n",
    "\n",
    "def calculate_suggestions(income, expenses):\n",
    "    saving_percentage = ((income - expenses) / income) * 100 if income > 0 else 0\n",
    "    print(f\"\\nSavings: ₹{income - expenses:.2f}\")\n",
    "    print(f\"Suggestion: Try to keep savings above 20%. Current: {saving_percentage:.2f}%\")\n",
    "\n",
    "def budget_advisor():\n",
    "    income = 0.0\n",
    "    expenses = 0.0\n",
    "\n",
    "    while True:\n",
    "        display_menu()\n",
    "        choice = input(\"Enter your choice: \")\n",
    "\n",
    "        if choice == \"1\":\n",
    "            amt = float(input(\"Enter income amount: ₹\"))\n",
    "            income += amt\n",
    "        elif choice == \"2\":\n",
    "            amt = float(input(\"Enter expense amount: ₹\"))\n",
    "            expenses += amt\n",
    "        elif choice == \"3\":\n",
    "            print(f\"\\nTotal Income: ₹{income:.2f}\")\n",
    "            print(f\"Total Expenses: ₹{expenses:.2f}\")\n",
    "            calculate_suggestions(income, expenses)\n",
    "        elif choice == \"4\":\n",
    "            print(\"Exiting Budget Advisor. Goodbye!\")\n",
    "            break\n",
    "        else:\n",
    "            print(\"Invalid input. Please try again.\")\n",
    "\n",
    "# Run the program\n",
    "budget_advisor()\n"
   ]
  },
  {
   "cell_type": "code",
   "execution_count": null,
   "id": "006de841-54a6-4a5e-bae2-9fda2c9dbc8d",
   "metadata": {},
   "outputs": [],
   "source": []
  }
 ],
 "metadata": {
  "kernelspec": {
   "display_name": "Python [conda env:base] *",
   "language": "python",
   "name": "conda-base-py"
  },
  "language_info": {
   "codemirror_mode": {
    "name": "ipython",
    "version": 3
   },
   "file_extension": ".py",
   "mimetype": "text/x-python",
   "name": "python",
   "nbconvert_exporter": "python",
   "pygments_lexer": "ipython3",
   "version": "3.12.7"
  }
 },
 "nbformat": 4,
 "nbformat_minor": 5
}
